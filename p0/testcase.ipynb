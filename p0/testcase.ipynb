{
 "cells": [
  {
   "cell_type": "code",
   "execution_count": 1,
   "id": "chemical-domain",
   "metadata": {},
   "outputs": [],
   "source": [
    "import nbimporter; nbimporter.options[\"only_defs\"] = False\n",
    "from P0 import compileString\n",
    "from ST import printSymTab\n",
    "\n",
    "def runpywasm(wasmfile):\n",
    "    import pywasm\n",
    "    def write(s, i): print(i)\n",
    "    def writeln(s): print('\\n')\n",
    "    def read(s): return int(input())\n",
    "    vm = pywasm.load(wasmfile, {'P0lib': {'write': write, 'writeln': writeln, 'read': read}})"
   ]
  },
  {
   "cell_type": "code",
   "execution_count": 2,
   "id": "advisory-service",
   "metadata": {},
   "outputs": [],
   "source": [
    "compileString(\"\"\"\n",
    "procedure fib(n: integer) → (r: integer)\n",
    "  var a, b: integer\n",
    "    if n = 0 then r := 0\n",
    "    else if n = 1 then r := 1\n",
    "    else\n",
    "      a ← fib(n - 1); b ← fib(n - 2); r := a + b\n",
    "\n",
    "program fibonacci\n",
    "  var x: integer\n",
    "    x ← read(); x ← fib(x); write(x)\n",
    "\"\"\", 'fib.wat', target = 'wat')"
   ]
  },
  {
   "cell_type": "code",
   "execution_count": 3,
   "id": "fifth-nutrition",
   "metadata": {},
   "outputs": [],
   "source": [
    "!wat2wasm fib.wat"
   ]
  },
  {
   "cell_type": "code",
   "execution_count": 5,
   "id": "behind-cement",
   "metadata": {},
   "outputs": [
    {
     "name": "stdin",
     "output_type": "stream",
     "text": [
      " 5\n"
     ]
    },
    {
     "name": "stdout",
     "output_type": "stream",
     "text": [
      "5\n",
      "CPU times: user 41.1 ms, sys: 18.8 ms, total: 59.9 ms\n",
      "Wall time: 1.85 s\n"
     ]
    }
   ],
   "source": [
    "time runpywasm(\"fib.wasm\")"
   ]
  },
  {
   "cell_type": "code",
   "execution_count": 10,
   "id": "contemporary-honey",
   "metadata": {},
   "outputs": [],
   "source": [
    "compileString(\"\"\"\n",
    "procedure plus(n: integer) → (a: integer)\n",
    "    a := 0\n",
    "    while a < n do\n",
    "        a := a + 1\n",
    "\n",
    "program climb\n",
    "  var x: integer\n",
    "    x ← read()\n",
    "    x ← plus(x); write(x)\n",
    "\"\"\", 'climb.wat', target = 'wat')"
   ]
  },
  {
   "cell_type": "code",
   "execution_count": 11,
   "id": "sustainable-corps",
   "metadata": {},
   "outputs": [],
   "source": [
    "!wat2wasm climb.wat"
   ]
  },
  {
   "cell_type": "code",
   "execution_count": 16,
   "id": "pleased-status",
   "metadata": {},
   "outputs": [
    {
     "name": "stdin",
     "output_type": "stream",
     "text": [
      " 100000\n"
     ]
    },
    {
     "name": "stdout",
     "output_type": "stream",
     "text": [
      "100000\n",
      "CPU times: user 20.7 s, sys: 142 ms, total: 20.9 s\n",
      "Wall time: 29.4 s\n"
     ]
    }
   ],
   "source": [
    "time runpywasm(\"climb.wasm\")"
   ]
  },
  {
   "cell_type": "code",
   "execution_count": null,
   "id": "smoking-metabolism",
   "metadata": {},
   "outputs": [],
   "source": []
  }
 ],
 "metadata": {
  "kernelspec": {
   "display_name": "Python 3",
   "language": "python",
   "name": "python3"
  },
  "language_info": {
   "codemirror_mode": {
    "name": "ipython",
    "version": 3
   },
   "file_extension": ".py",
   "mimetype": "text/x-python",
   "name": "python",
   "nbconvert_exporter": "python",
   "pygments_lexer": "ipython3",
   "version": "3.8.5"
  }
 },
 "nbformat": 4,
 "nbformat_minor": 5
}
